{
 "cells": [
  {
   "cell_type": "code",
   "execution_count": 1,
   "metadata": {},
   "outputs": [
    {
     "name": "stderr",
     "output_type": "stream",
     "text": [
      "2023-12-08 09:30:50.885394: E external/local_xla/xla/stream_executor/cuda/cuda_dnn.cc:9261] Unable to register cuDNN factory: Attempting to register factory for plugin cuDNN when one has already been registered\n",
      "2023-12-08 09:30:50.885439: E external/local_xla/xla/stream_executor/cuda/cuda_fft.cc:607] Unable to register cuFFT factory: Attempting to register factory for plugin cuFFT when one has already been registered\n",
      "2023-12-08 09:30:50.887262: E external/local_xla/xla/stream_executor/cuda/cuda_blas.cc:1515] Unable to register cuBLAS factory: Attempting to register factory for plugin cuBLAS when one has already been registered\n",
      "2023-12-08 09:30:50.897664: I tensorflow/core/platform/cpu_feature_guard.cc:182] This TensorFlow binary is optimized to use available CPU instructions in performance-critical operations.\n",
      "To enable the following instructions: AVX2 FMA, in other operations, rebuild TensorFlow with the appropriate compiler flags.\n",
      "2023-12-08 09:30:58.136489: W tensorflow/compiler/tf2tensorrt/utils/py_utils.cc:38] TF-TRT Warning: Could not find TensorRT\n",
      "/usr/lib/python3/dist-packages/scipy/__init__.py:146: UserWarning: A NumPy version >=1.17.3 and <1.25.0 is required for this version of SciPy (detected version 1.26.2\n",
      "  warnings.warn(f\"A NumPy version >={np_minversion} and <{np_maxversion}\"\n"
     ]
    }
   ],
   "source": [
    "from fastmri.data import transforms as T\n",
    "import fastmri\n",
    "import torch\n",
    "import tensorflow as tf\n",
    "import torch.fft as fft \n",
    "import h5py\n",
    "import numpy as np\n",
    "from matplotlib import pyplot as plt"
   ]
  },
  {
   "cell_type": "code",
   "execution_count": 2,
   "metadata": {},
   "outputs": [],
   "source": [
    "def show_coils(data, slice_nums, cmap=None):\n",
    "    fig = plt.figure()\n",
    "    for i, num in enumerate(slice_nums):\n",
    "        plt.subplot(1, len(slice_nums), i + 1)\n",
    "        plt.imshow(data[num], cmap=cmap)\n"
   ]
  },
  {
   "cell_type": "code",
   "execution_count": 3,
   "metadata": {},
   "outputs": [],
   "source": [
    "def virtual_coil_reconstruction(imgs):\n",
    "    \"\"\"\n",
    "    Calculate the combination of all coils using virtual coil reconstruction\n",
    "\n",
    "    Parameters\n",
    "    ----------\n",
    "    imgs: np.ndarray\n",
    "        The images reconstructed channel by channel\n",
    "        in shape [batch_size, Nch, Nx, Ny, Nz]\n",
    "\n",
    "    Returns\n",
    "    -------\n",
    "    img_comb: np.ndarray\n",
    "        The combination of all the channels in a complex valued\n",
    "        in shape [batch_size, Nx, Ny]\n",
    "    \"\"\"\n",
    "    imgs = torch.tensor(imgs, dtype=torch.complex64)\n",
    "    img_sh = imgs.shape\n",
    "    dimension = len(img_sh)-2\n",
    "\n",
    "    weights = tf.math.reduce_sum(tf.abs(imgs), axis=1) + 1e-16\n",
    "    phase_reference = tf.cast(\n",
    "        tf.math.angle(tf.math.reduce_sum(\n",
    "            imgs,\n",
    "            axis=(2+np.arange(len(img_sh)-2))\n",
    "        )),\n",
    "        tf.complex64\n",
    "    )\n",
    "    expand = [..., *((None, ) * (len(img_sh)-2))]\n",
    "    reference = imgs / tf.cast(weights[:, None, ...], tf.complex64) / \\\n",
    "        tf.math.exp(1j * phase_reference)[expand]\n",
    "    virtual_coil = tf.math.reduce_sum(reference, axis=1)\n",
    "    difference_original_vs_virtual = tf.math.conj(imgs) * virtual_coil[:, None]\n",
    "\n",
    "    hanning = tf.signal.hann_window(img_sh[-dimension])\n",
    "    for d in range(dimension-1):\n",
    "        hanning = tf.expand_dims(hanning, axis=-1) * tf.signal.hann_window(img_sh[dimension + d])\n",
    "    hanning = tf.cast(hanning, tf.complex64)\n",
    "\n",
    "    if dimension == 3:    \n",
    "        difference_original_vs_virtual = tf.signal.ifft3d(\n",
    "            tf.signal.fft3d(difference_original_vs_virtual) * tf.signal.fftshift(hanning)\n",
    "        )\n",
    "    else:\n",
    "        difference_original_vs_virtual = tf.signal.ifft2d (\n",
    "            tf.signal.fft2d(difference_original_vs_virtual) * hanning\n",
    "        )\n",
    "    img_comb = tf.math.reduce_sum(\n",
    "        imgs *\n",
    "        tf.math.exp(\n",
    "            1j * tf.cast(tf.math.angle(difference_original_vs_virtual), tf.complex64)),\n",
    "        axis=-3\n",
    "    )\n",
    "    return img_comb"
   ]
  },
  {
   "cell_type": "code",
   "execution_count": 4,
   "metadata": {},
   "outputs": [],
   "source": [
    "file_path = \"/volatile/FastMRI/brain_multicoil_train/multicoil_train/file_brain_AXT1POST_201_6002780.h5\"\n",
    "hf = h5py.File(file_path)"
   ]
  },
  {
   "cell_type": "code",
   "execution_count": 5,
   "metadata": {},
   "outputs": [
    {
     "name": "stdout",
     "output_type": "stream",
     "text": [
      "complex64\n",
      "(16, 16, 640, 320)\n"
     ]
    }
   ],
   "source": [
    "volume_kspace = hf['kspace'][()]\n",
    "print(volume_kspace.dtype)\n",
    "print(volume_kspace.shape)"
   ]
  },
  {
   "cell_type": "code",
   "execution_count": 6,
   "metadata": {},
   "outputs": [],
   "source": [
    "slice_kspace = volume_kspace[volume_kspace.shape[0]-1] # Choosing the lastest slice of this volume\n",
    "# print(slice_kspace)"
   ]
  },
  {
   "cell_type": "code",
   "execution_count": 7,
   "metadata": {},
   "outputs": [
    {
     "name": "stdout",
     "output_type": "stream",
     "text": [
      "torch.Size([16, 640, 320, 2])\n",
      "torch.Size([16, 640, 320, 2])\n",
      "torch.Size([16, 640, 320])\n"
     ]
    }
   ],
   "source": [
    "num_coils = slice_kspace.shape[0] # number of coils in the k-space\n",
    "slice_kspace2 = T.to_tensor(slice_kspace)      # Convert from numpy array to pytorch tensor\n",
    "print(slice_kspace2.shape)\n",
    "slice_image = fastmri.ifft2c(slice_kspace2)           # Apply Inverse Fourier Transform to get the complex image\n",
    "print(slice_image.shape)\n",
    "slice_image_abs = fastmri.complex_abs(slice_image)   # Compute absolute value to get a real image\n",
    "print(slice_image_abs.shape)\n",
    "\n",
    "# for coil_index in range(num_coils):\n",
    "#     show_coils(np.log(np.abs(slice_kspace) + 1e-9), [coil_index])\n",
    "#     show_coils(slice_image_abs, [coil_index], cmap='gray')"
   ]
  },
  {
   "cell_type": "code",
   "execution_count": 8,
   "metadata": {},
   "outputs": [
    {
     "name": "stderr",
     "output_type": "stream",
     "text": [
      "/tmp/ipykernel_4016063/932307776.py:17: UserWarning: To copy construct from a tensor, it is recommended to use sourceTensor.clone().detach() or sourceTensor.clone().detach().requires_grad_(True), rather than torch.tensor(sourceTensor).\n",
      "  imgs = torch.tensor(imgs, dtype=torch.complex64)\n",
      "2023-12-08 09:31:12.126966: I tensorflow/core/common_runtime/gpu/gpu_device.cc:1929] Created device /job:localhost/replica:0/task:0/device:GPU:0 with 300 MB memory:  -> device: 0, name: Quadro M4000, pci bus id: 0000:03:00.0, compute capability: 5.2\n"
     ]
    },
    {
     "name": "stdout",
     "output_type": "stream",
     "text": [
      "(640, 320)\n"
     ]
    },
    {
     "data": {
      "text/plain": [
       "<matplotlib.image.AxesImage at 0x7fd671a9f250>"
      ]
     },
     "execution_count": 8,
     "metadata": {},
     "output_type": "execute_result"
    },
    {
     "data": {
      "image/png": "[encoded data removed]",
      "text/plain": [
       "<Figure size 432x288 with 1 Axes>"
      ]
     },
     "metadata": {
      "needs_background": "light"
     },
     "output_type": "display_data"
    }
   ],
   "source": [
    "new_image_singlecoil = virtual_coil_reconstruction(slice_image_abs)\n",
    "print(new_image_singlecoil.shape)\n",
    "plt.imshow(np.abs(new_image_singlecoil.numpy()), cmap='gray')"
   ]
  }
 ],
 "metadata": {
  "kernelspec": {
   "display_name": "Python 3",
   "language": "python",
   "name": "python3"
  },
  "language_info": {
   "codemirror_mode": {
    "name": "ipython",
    "version": 3
   },
   "file_extension": ".py",
   "mimetype": "text/x-python",
   "name": "python",
   "nbconvert_exporter": "python",
   "pygments_lexer": "ipython3",
   "version": "3.10.12"
  }
 },
 "nbformat": 4,
 "nbformat_minor": 2
}
