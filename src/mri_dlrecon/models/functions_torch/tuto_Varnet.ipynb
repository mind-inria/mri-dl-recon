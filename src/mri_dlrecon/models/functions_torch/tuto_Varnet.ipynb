{
 "cells": [
  {
   "cell_type": "code",
   "execution_count": 1,
   "metadata": {},
   "outputs": [],
   "source": [
    "import sys\n",
    "sys.path.append('/home/lo276838/Modèles/mri-dl-recon/src/mri_dlrecon')"
   ]
  },
  {
   "cell_type": "code",
   "execution_count": 2,
   "metadata": {},
   "outputs": [],
   "source": [
    "from fastmri.data import transforms as T\n",
    "import torch\n",
    "import numpy as np\n",
    "from matplotlib import pyplot as plt\n",
    "from torch.autograd import Variable\n",
    "\n",
    "from utils_torch import virtual_coil_reconstruction, load_and_transform, create_zero_filled_reconstruction\n",
    "from fastmri.data.subsample import create_mask_for_mask_type\n",
    "from fastmri.models.varnet import VarNet \n"
   ]
  },
  {
   "cell_type": "code",
   "execution_count": 3,
   "metadata": {},
   "outputs": [],
   "source": [
    "plt.rcParams['figure.figsize'] = (7, 7)\n",
    "# plt.rcParams['image.cmap'] = 'gray'"
   ]
  },
  {
   "cell_type": "code",
   "execution_count": 4,
   "metadata": {},
   "outputs": [
    {
     "name": "stdout",
     "output_type": "stream",
     "text": [
      "torch.Size([16, 640, 320])\n",
      "torch.Size([1, 640, 1])\n"
     ]
    }
   ],
   "source": [
    "file_path = \"/volatile/FastMRI/brain_multicoil_train/multicoil_train/file_brain_AXT1POST_201_6002780.h5\"\n",
    "\n",
    "kspace_multicoil = load_and_transform(file_path)\n",
    "images_multicoil = torch.fft.fftshift(torch.fft.ifft2(kspace_multicoil))\n",
    "\n",
    "image = virtual_coil_reconstruction(images_multicoil)\n",
    "print(image.shape)\n",
    "kspace = torch.fft.fft2(image)\n",
    "\n",
    "mask_type = \"random\"\n",
    "center_fractions = [0.08, 0.04]\n",
    "accelerations = [4, 8]\n",
    "mask = create_mask_for_mask_type(mask_type, center_fractions, accelerations)\n",
    "\n",
    "zero_filled_reconstruction , test = create_zero_filled_reconstruction(mask,kspace)\n",
    "zero_filled_reconstruction = torch.fft.fftshift(zero_filled_reconstruction)\n",
    "print(test.shape)\n",
    "\n",
    "\n",
    "input = zero_filled_reconstruction\n",
    "target = image.abs().unsqueeze(1)"
   ]
  },
  {
   "cell_type": "code",
   "execution_count": 5,
   "metadata": {},
   "outputs": [],
   "source": [
    "# plt.subplot(1,2,1)\n",
    "# plt.imshow(np.abs(input[0, 0, :,: ].numpy()))\n",
    "# plt.title(\"Input\")\n",
    "\n",
    "# plt.subplot(1,2,2)\n",
    "# plt.imshow(target[0,0, :,: ].numpy())\n",
    "# plt.title(\"Target\")\n",
    "\n",
    "# plt.tight_layout()\n",
    "# plt.show()"
   ]
  },
  {
   "cell_type": "code",
   "execution_count": 6,
   "metadata": {},
   "outputs": [
    {
     "name": "stdout",
     "output_type": "stream",
     "text": [
      "torch.Size([1, 640, 1])\n",
      "torch.Size([16, 1, 640, 320, 1])\n",
      "torch.Size([1, 1, 1, 640, 1])\n"
     ]
    },
    {
     "ename": "TypeError",
     "evalue": "'torch.Size' object does not support item assignment",
     "output_type": "error",
     "traceback": [
      "\u001b[0;31m---------------------------------------------------------------------------\u001b[0m",
      "\u001b[0;31mTypeError\u001b[0m                                 Traceback (most recent call last)",
      "\u001b[0;32m/tmp/ipykernel_3845581/3284610929.py\u001b[0m in \u001b[0;36m<module>\u001b[0;34m\u001b[0m\n\u001b[1;32m     19\u001b[0m     \u001b[0mprint\u001b[0m\u001b[0;34m(\u001b[0m\u001b[0minput\u001b[0m\u001b[0;34m.\u001b[0m\u001b[0mshape\u001b[0m\u001b[0;34m)\u001b[0m\u001b[0;34m\u001b[0m\u001b[0;34m\u001b[0m\u001b[0m\n\u001b[1;32m     20\u001b[0m     \u001b[0mprint\u001b[0m\u001b[0;34m(\u001b[0m\u001b[0mtest\u001b[0m\u001b[0;34m.\u001b[0m\u001b[0mshape\u001b[0m\u001b[0;34m)\u001b[0m\u001b[0;34m\u001b[0m\u001b[0;34m\u001b[0m\u001b[0m\n\u001b[0;32m---> 21\u001b[0;31m     \u001b[0minput\u001b[0m\u001b[0;34m.\u001b[0m\u001b[0mshape\u001b[0m\u001b[0;34m[\u001b[0m\u001b[0;34m-\u001b[0m\u001b[0;36m1\u001b[0m\u001b[0;34m]\u001b[0m \u001b[0;34m=\u001b[0m \u001b[0;36m2\u001b[0m\u001b[0;34m\u001b[0m\u001b[0;34m\u001b[0m\u001b[0m\n\u001b[0m\u001b[1;32m     22\u001b[0m     \u001b[0mprint\u001b[0m\u001b[0;34m(\u001b[0m\u001b[0minput\u001b[0m\u001b[0;34m.\u001b[0m\u001b[0mshape\u001b[0m\u001b[0;34m[\u001b[0m\u001b[0;34m-\u001b[0m\u001b[0;36m1\u001b[0m\u001b[0;34m]\u001b[0m\u001b[0;34m)\u001b[0m\u001b[0;34m\u001b[0m\u001b[0;34m\u001b[0m\u001b[0m\n\u001b[1;32m     23\u001b[0m \u001b[0;34m\u001b[0m\u001b[0m\n",
      "\u001b[0;31mTypeError\u001b[0m: 'torch.Size' object does not support item assignment"
     ]
    }
   ],
   "source": [
    "chans = 32\n",
    "num_pool_layers = 4\n",
    "lr = 0.0001\n",
    "\n",
    "model = VarNet(chans=chans, pools=num_pool_layers)\n",
    "criterion = torch.nn.L1Loss()\n",
    "optimizer = torch.optim.Adam(model.parameters(), lr=lr)\n",
    "\n",
    "loss_list = []\n",
    "print(test.shape)\n",
    "num_epochs = 1\n",
    "for epoch in range(num_epochs):\n",
    "    input = Variable(input)\n",
    "    target = Variable(target)\n",
    "    \n",
    "    test = test.unsqueeze(1)\n",
    "    test = test.unsqueeze(1)\n",
    "    input = input.unsqueeze(-1)\n",
    "    print(input.shape)\n",
    "    print(test.shape)\n",
    "    input.shape[-1] = 2\n",
    "    print(input.shape[-1])\n",
    "\n",
    "    optimizer.zero_grad()\n",
    "    outputs = model(input, test)\n",
    "    loss = criterion(outputs, target)\n",
    "    loss_list.append(loss.item())\n",
    "\n",
    "    loss.backward()\n",
    "    optimizer.step()\n",
    "\n",
    "    # print(f'Epoch [{epoch+1}/{num_epochs}]')\n",
    "\n",
    "# Sauvegarder le modèle\n",
    "torch.save(model.state_dict(), 'fastmri_unet_model.pth')\n"
   ]
  }
 ],
 "metadata": {
  "kernelspec": {
   "display_name": "Python 3",
   "language": "python",
   "name": "python3"
  },
  "language_info": {
   "codemirror_mode": {
    "name": "ipython",
    "version": 3
   },
   "file_extension": ".py",
   "mimetype": "text/x-python",
   "name": "python",
   "nbconvert_exporter": "python",
   "pygments_lexer": "ipython3",
   "version": "3.10.12"
  }
 },
 "nbformat": 4,
 "nbformat_minor": 2
}
