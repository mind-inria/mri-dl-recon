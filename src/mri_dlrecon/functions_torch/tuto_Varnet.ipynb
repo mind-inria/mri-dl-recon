{
 "cells": [
  {
   "cell_type": "code",
   "execution_count": null,
   "metadata": {},
   "outputs": [],
   "source": [
    "import sys\n",
    "sys.path.append('/home/lo276838/Modèles/mri-dl-recon/src/mri_dlrecon')"
   ]
  },
  {
   "cell_type": "code",
   "execution_count": null,
   "metadata": {},
   "outputs": [],
   "source": [
    "from fastmri.data import transforms as T\n",
    "import torch\n",
    "import numpy as np\n",
    "from matplotlib import pyplot as plt\n",
    "from torch.autograd import Variable\n",
    "\n",
    "from utils_torch import virtual_coil_reconstruction, load_and_transform, create_zero_filled_reconstruction\n",
    "from fastmri.data.subsample import create_mask_for_mask_type\n",
    "from fastmri.models.unet import Unet\n"
   ]
  },
  {
   "cell_type": "code",
   "execution_count": null,
   "metadata": {},
   "outputs": [],
   "source": [
    "plt.rcParams['figure.figsize'] = (7, 7)\n",
    "# plt.rcParams['image.cmap'] = 'gray'"
   ]
  },
  {
   "cell_type": "code",
   "execution_count": null,
   "metadata": {},
   "outputs": [],
   "source": [
    "file_path = \"/volatile/FastMRI/brain_multicoil_train/multicoil_train/file_brain_AXT1POST_201_6002780.h5\"\n",
    "\n",
    "kspace_multicoil = load_and_transform(file_path)\n",
    "images_multicoil = torch.fft.fftshift(torch.fft.ifft2(kspace_multicoil))\n",
    "\n",
    "image = virtual_coil_reconstruction(images_multicoil)\n",
    "kspace = torch.fft.fft2(image)\n",
    "\n",
    "mask_type = \"magic_fraction\"\n",
    "center_fractions = [0.08, 0.04]\n",
    "accelerations = [4, 8]\n",
    "mask = create_mask_for_mask_type(mask_type, center_fractions, accelerations)\n",
    "\n",
    "zero_filled_reconstruction = torch.fft.fftshift(create_zero_filled_reconstruction(mask,kspace))\n",
    "\n",
    "\n",
    "input = zero_filled_reconstruction\n",
    "target = image.abs().unsqueeze(1)"
   ]
  },
  {
   "cell_type": "code",
   "execution_count": null,
   "metadata": {},
   "outputs": [],
   "source": [
    "plt.subplot(1,2,1)\n",
    "plt.imshow(np.abs(input[0, 0, :,: ].numpy()))\n",
    "plt.title(\"Input\")\n",
    "\n",
    "plt.subplot(1,2,2)\n",
    "plt.imshow(target[0,0, :,: ].numpy())\n",
    "plt.title(\"Target\")\n",
    "\n",
    "plt.tight_layout()\n",
    "plt.show()"
   ]
  }
 ],
 "metadata": {
  "language_info": {
   "name": "python"
  }
 },
 "nbformat": 4,
 "nbformat_minor": 2
}
