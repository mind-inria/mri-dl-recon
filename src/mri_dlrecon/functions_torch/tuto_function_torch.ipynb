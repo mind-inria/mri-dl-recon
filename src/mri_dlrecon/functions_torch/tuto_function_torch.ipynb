{
 "cells": [
  {
   "cell_type": "markdown",
   "metadata": {},
   "source": [
    "# Tuto fonction fastmri"
   ]
  },
  {
   "cell_type": "markdown",
   "metadata": {},
   "source": [
    "## Import "
   ]
  },
  {
   "cell_type": "code",
   "execution_count": 1,
   "metadata": {},
   "outputs": [],
   "source": [
    "import fastmri\n",
    "from fastmri.data import transforms as T\n",
    "import h5py\n",
    "import numpy as np\n",
    "from matplotlib import pyplot as plt\n",
    "\n",
    "from utils_torch import virtual_coil_reconstruction, show_coils\n",
    "\n",
    "import sys\n",
    "sys.path.append('/home/lo276838/Modèles/mri-dl-recon/src')"
   ]
  },
  {
   "cell_type": "markdown",
   "metadata": {},
   "source": [
    "## Download data "
   ]
  },
  {
   "cell_type": "code",
   "execution_count": 2,
   "metadata": {},
   "outputs": [],
   "source": [
    "file_path = \"/volatile/FastMRI/brain_multicoil_train/multicoil_train/file_brain_AXT1POST_201_6002780.h5\"\n",
    "hf = h5py.File(file_path)\n",
    "# print(hf)"
   ]
  },
  {
   "cell_type": "markdown",
   "metadata": {},
   "source": [
    "## Manipulate data to understand and have the right format"
   ]
  },
  {
   "cell_type": "code",
   "execution_count": 3,
   "metadata": {},
   "outputs": [
    {
     "name": "stdout",
     "output_type": "stream",
     "text": [
      "complex64\n",
      "(16, 16, 640, 320)\n"
     ]
    }
   ],
   "source": [
    "volume_kspace = hf['kspace'][()]\n",
    "print(volume_kspace.dtype)\n",
    "print(volume_kspace.shape)"
   ]
  },
  {
   "cell_type": "code",
   "execution_count": 4,
   "metadata": {},
   "outputs": [],
   "source": [
    "slice_kspace = volume_kspace[volume_kspace.shape[0]-1] # Choosing the lastest slice of this volume\n",
    "# print(slice_kspace)"
   ]
  },
  {
   "cell_type": "code",
   "execution_count": 5,
   "metadata": {},
   "outputs": [
    {
     "name": "stdout",
     "output_type": "stream",
     "text": [
      "torch.Size([16, 640, 320, 2])\n",
      "torch.Size([16, 640, 320, 2])\n",
      "torch.Size([16, 640, 320])\n"
     ]
    }
   ],
   "source": [
    "num_coils = slice_kspace.shape[0] # number of coils in the k-space\n",
    "\n",
    "slice_kspace2 = T.to_tensor(slice_kspace)      # Convert from numpy array to pytorch tensor\n",
    "print(slice_kspace2.shape)\n",
    "slice_image = fastmri.ifft2c(slice_kspace2)           # Apply Inverse Fourier Transform to get the complex image\n",
    "print(slice_image.shape)\n",
    "slice_image_abs = fastmri.complex_abs(slice_image)   # Compute absolute value to get a real image\n",
    "print(slice_image_abs.shape)\n",
    "# print(slice_image_abs)\n",
    "\n",
    "# for coil_index in range(num_coils):\n",
    "#     show_coils(np.log(np.abs(slice_kspace) + 1e-9), [coil_index])\n",
    "#     show_coils(slice_image_abs, [coil_index], cmap='gray')"
   ]
  },
  {
   "cell_type": "markdown",
   "metadata": {},
   "source": [
    "## Test for undersampling Mask "
   ]
  },
  {
   "cell_type": "markdown",
   "metadata": {},
   "source": [
    "### Original image"
   ]
  },
  {
   "cell_type": "code",
   "execution_count": 6,
   "metadata": {},
   "outputs": [
    {
     "name": "stdout",
     "output_type": "stream",
     "text": [
      "torch.Size([16, 640, 320])\n",
      "torch.Size([640, 320])\n"
     ]
    },
    {
     "name": "stderr",
     "output_type": "stream",
     "text": [
      "/home/lo276838/Modèles/mri-dl-recon/src/mri_dlrecon/functions_torch/utils_torch.py:34: UserWarning: To copy construct from a tensor, it is recommended to use sourceTensor.clone().detach() or sourceTensor.clone().detach().requires_grad_(True), rather than torch.tensor(sourceTensor).\n",
      "  imgs = torch.tensor(imgs, dtype=torch.complex64)\n",
      "/home/lo276838/Modèles/mri-dl-recon/src/mri_dlrecon/functions_torch/utils_torch.py:39: UserWarning: To copy construct from a tensor, it is recommended to use sourceTensor.clone().detach() or sourceTensor.clone().detach().requires_grad_(True), rather than torch.tensor(sourceTensor).\n",
      "  phase_reference = torch.tensor(\n"
     ]
    }
   ],
   "source": [
    "#   Transformation multicoil into singlecoil\n",
    "\n",
    "new_image_singlecoil = virtual_coil_reconstruction(slice_image_abs) # image de base \n",
    "\n",
    "print(slice_image_abs.shape)\n",
    "print(new_image_singlecoil.shape)"
   ]
  },
  {
   "cell_type": "markdown",
   "metadata": {},
   "source": [
    "### Fastmri"
   ]
  },
  {
   "cell_type": "markdown",
   "metadata": {},
   "source": [
    "Choose the sampling mask you want between the following.\n",
    "\n",
    "random : genere a sampling mask randomly  \n",
    "equispaced : genere a sampling mask with qually-spaced k-space lines  \n",
    "equispaced_fraction : similar to equispaced with more precision about acceleration rate  \n",
    "magic : genere a sampling mask who exploit conjugate symmetry  \n",
    "magic_fraction : similar to magic with more precision about acceleration rate  "
   ]
  },
  {
   "cell_type": "code",
   "execution_count": 7,
   "metadata": {},
   "outputs": [],
   "source": [
    "from fastmri.data.subsample import create_mask_for_mask_type\n",
    "\n",
    "mask_type_str = \"random\"\n",
    "center_fractions = [0.08, 0.04]\n",
    "accelerations = [4, 8]\n",
    "\n",
    "mask_func = create_mask_for_mask_type(mask_type_str, center_fractions, accelerations)"
   ]
  },
  {
   "cell_type": "markdown",
   "metadata": {},
   "source": [
    "masked_func represent here the binary data of the mask.   \n",
    "0 mean informatiosn in the data are note conserve.   \n",
    "1 mean you take the information.   \n",
    "    \n",
    "accelerated_data is the fusion between the original data and sampling data.   \n",
    "This is the data we gonna use."
   ]
  },
  {
   "cell_type": "code",
   "execution_count": 8,
   "metadata": {},
   "outputs": [
    {
     "name": "stdout",
     "output_type": "stream",
     "text": [
      "torch.Size([640, 320])\n"
     ]
    },
    {
     "name": "stderr",
     "output_type": "stream",
     "text": [
      "2023-12-15 15:18:57.215191: E external/local_xla/xla/stream_executor/cuda/cuda_dnn.cc:9261] Unable to register cuDNN factory: Attempting to register factory for plugin cuDNN when one has already been registered\n",
      "2023-12-15 15:18:57.215236: E external/local_xla/xla/stream_executor/cuda/cuda_fft.cc:607] Unable to register cuFFT factory: Attempting to register factory for plugin cuFFT when one has already been registered\n",
      "2023-12-15 15:18:57.217060: E external/local_xla/xla/stream_executor/cuda/cuda_blas.cc:1515] Unable to register cuBLAS factory: Attempting to register factory for plugin cuBLAS when one has already been registered\n",
      "2023-12-15 15:18:57.226477: I tensorflow/core/platform/cpu_feature_guard.cc:182] This TensorFlow binary is optimized to use available CPU instructions in performance-critical operations.\n",
      "To enable the following instructions: AVX2 FMA, in other operations, rebuild TensorFlow with the appropriate compiler flags.\n",
      "2023-12-15 15:18:59.786925: W tensorflow/compiler/tf2tensorrt/utils/py_utils.cc:38] TF-TRT Warning: Could not find TensorRT\n",
      "/usr/lib/python3/dist-packages/scipy/__init__.py:146: UserWarning: A NumPy version >=1.17.3 and <1.25.0 is required for this version of SciPy (detected version 1.26.2\n",
      "  warnings.warn(f\"A NumPy version >={np_minversion} and <{np_maxversion}\"\n",
      "2023-12-15 15:19:02.914985: I tensorflow/core/common_runtime/gpu/gpu_device.cc:1929] Created device /job:localhost/replica:0/task:0/device:GPU:0 with 6798 MB memory:  -> device: 0, name: Quadro M4000, pci bus id: 0000:03:00.0, compute capability: 5.2\n"
     ]
    },
    {
     "name": "stdout",
     "output_type": "stream",
     "text": [
      "(16, 320) tgtgtt\n",
      "(16, 320)\n"
     ]
    },
    {
     "ename": "ValueError",
     "evalue": "Shape should have 3 or more dimensions",
     "output_type": "error",
     "traceback": [
      "\u001b[0;31m---------------------------------------------------------------------------\u001b[0m",
      "\u001b[0;31mValueError\u001b[0m                                Traceback (most recent call last)",
      "\u001b[0;32m/tmp/ipykernel_2893075/2156957366.py\u001b[0m in \u001b[0;36m<module>\u001b[0;34m\u001b[0m\n\u001b[1;32m      6\u001b[0m \u001b[0mprint\u001b[0m\u001b[0;34m(\u001b[0m\u001b[0mtestLena2\u001b[0m\u001b[0;34m.\u001b[0m\u001b[0mshape\u001b[0m\u001b[0;34m)\u001b[0m\u001b[0;34m\u001b[0m\u001b[0;34m\u001b[0m\u001b[0m\n\u001b[1;32m      7\u001b[0m \u001b[0;34m\u001b[0m\u001b[0m\n\u001b[0;32m----> 8\u001b[0;31m \u001b[0mmasked_data\u001b[0m \u001b[0;34m,\u001b[0m \u001b[0m_\u001b[0m \u001b[0;34m=\u001b[0m \u001b[0mmask_func\u001b[0m\u001b[0;34m(\u001b[0m\u001b[0mtestLena\u001b[0m\u001b[0;34m.\u001b[0m\u001b[0mshape\u001b[0m\u001b[0;34m)\u001b[0m\u001b[0;34m\u001b[0m\u001b[0;34m\u001b[0m\u001b[0m\n\u001b[0m\u001b[1;32m      9\u001b[0m \u001b[0;31m# print(masked_data)\u001b[0m\u001b[0;34m\u001b[0m\u001b[0;34m\u001b[0m\u001b[0m\n\u001b[1;32m     10\u001b[0m \u001b[0;34m\u001b[0m\u001b[0m\n",
      "\u001b[0;32m~/.local/lib/python3.10/site-packages/fastmri/data/subsample.py\u001b[0m in \u001b[0;36m__call__\u001b[0;34m(self, shape, offset, seed)\u001b[0m\n\u001b[1;32m    100\u001b[0m         \"\"\"\n\u001b[1;32m    101\u001b[0m         \u001b[0;32mif\u001b[0m \u001b[0mlen\u001b[0m\u001b[0;34m(\u001b[0m\u001b[0mshape\u001b[0m\u001b[0;34m)\u001b[0m \u001b[0;34m<\u001b[0m \u001b[0;36m3\u001b[0m\u001b[0;34m:\u001b[0m\u001b[0;34m\u001b[0m\u001b[0;34m\u001b[0m\u001b[0m\n\u001b[0;32m--> 102\u001b[0;31m             \u001b[0;32mraise\u001b[0m \u001b[0mValueError\u001b[0m\u001b[0;34m(\u001b[0m\u001b[0;34m\"Shape should have 3 or more dimensions\"\u001b[0m\u001b[0;34m)\u001b[0m\u001b[0;34m\u001b[0m\u001b[0;34m\u001b[0m\u001b[0m\n\u001b[0m\u001b[1;32m    103\u001b[0m \u001b[0;34m\u001b[0m\u001b[0m\n\u001b[1;32m    104\u001b[0m         \u001b[0;32mwith\u001b[0m \u001b[0mtemp_seed\u001b[0m\u001b[0;34m(\u001b[0m\u001b[0mself\u001b[0m\u001b[0;34m.\u001b[0m\u001b[0mrng\u001b[0m\u001b[0;34m,\u001b[0m \u001b[0mseed\u001b[0m\u001b[0;34m)\u001b[0m\u001b[0;34m:\u001b[0m\u001b[0;34m\u001b[0m\u001b[0;34m\u001b[0m\u001b[0m\n",
      "\u001b[0;31mValueError\u001b[0m: Shape should have 3 or more dimensions"
     ]
    }
   ],
   "source": [
    "testLena = virtual_coil_reconstruction(slice_image_abs)\n",
    "print(testLena.shape)\n",
    "\n",
    "from mri_dlrecon.functions_tf.utils_tf import virtual_coil_reconstruction as VR\n",
    "testLena2 = VR(slice_image_abs)\n",
    "print(testLena2.shape)\n",
    "\n",
    "masked_data , _ = mask_func(testLena.shape) \n",
    "# print(masked_data)\n",
    "\n",
    "accelerated_data = slice_image_abs * masked_data\n",
    "# print(accelerated_data)"
   ]
  },
  {
   "cell_type": "markdown",
   "metadata": {},
   "source": [
    "function who transform multicoil_data into singlecoil_data"
   ]
  },
  {
   "cell_type": "code",
   "execution_count": null,
   "metadata": {},
   "outputs": [],
   "source": [
    "# new_image_singlecoil_Masked = virtual_coil_reconstruction(accelerated_data) # image with sampling mask\n",
    "new_image_singlecoil_Masked = accelerated_data"
   ]
  },
  {
   "cell_type": "markdown",
   "metadata": {},
   "source": [
    "### Fasmri Reproductible Benchmark"
   ]
  },
  {
   "cell_type": "code",
   "execution_count": null,
   "metadata": {},
   "outputs": [],
   "source": [
    "\n",
    "# def gen_mask(kspace, accel_factor=8, seed=None):\n",
    "#     # inspired by https://github.com/facebookresearch/fastMRI/blob/master/common/subsample.py\n",
    "#     shape = kspace.shape\n",
    "#     num_cols = shape[-1]\n",
    "#     center_fraction = (32 // accel_factor) / 100\n",
    "#     acceleration = accel_factor\n",
    "\n",
    "#     # Create the mask\n",
    "#     num_low_freqs = int(round(num_cols * center_fraction))\n",
    "#     prob = (num_cols / acceleration - num_low_freqs) / (num_cols - num_low_freqs)\n",
    "#     mask = np.random.default_rng(seed).uniform(size=num_cols) < prob\n",
    "#     pad = (num_cols - num_low_freqs + 1) // 2\n",
    "#     mask[pad:pad + num_low_freqs] = True\n",
    "\n",
    "#     # Reshape the mask\n",
    "#     mask_shape = [1 for _ in shape]\n",
    "#     mask_shape[-1] = num_cols\n",
    "#     mask = mask.reshape(*mask_shape)\n",
    "#     return mask\n",
    "\n",
    "def gen_mask(kspace, accel_factor=8):\n",
    "    shape = kspace.shape\n",
    "    num_cols = shape[-1]\n",
    "\n",
    "    center_fraction = (32 // accel_factor) / 100\n",
    "    acceleration = accel_factor\n",
    "\n",
    "    # Create the mask\n",
    "    num_low_freqs = int(round(num_cols * center_fraction))\n",
    "    prob = (num_cols / acceleration - num_low_freqs) / (num_cols - 3 * num_low_freqs)\n",
    "    num_sampling = int(prob * num_cols)\n",
    "    # selected_indexes = np.random.default_rng().randint(0, num_cols, size=(num_sampling, 2)).mean(axis=-1).astype('int')\n",
    "    selected_indexes = np.random.default_rng().choice(num_cols, size=num_sampling, replace=False)\n",
    "    mask = np.zeros((num_cols,)).astype('bool')\n",
    "    mask[selected_indexes] = True\n",
    "    pad = (num_cols - num_low_freqs + 1) // 2\n",
    "    mask[pad:pad + num_low_freqs] = True\n",
    "\n",
    "    # Reshape the mask\n",
    "    mask_shape = [1 for _ in shape]\n",
    "    mask_shape[-1] = num_cols\n",
    "    mask = mask.reshape(*mask_shape)\n",
    "    return mask\n",
    "\n",
    "# import tensorflow as tf\n",
    "\n",
    "# def gen_mask(kspace, accel_factor = 8, multicoil=False, fixed_masks=False):\n",
    "#     shape = tf.shape(kspace)\n",
    "#     num_cols = shape[-1] # initialement -1\n",
    "#     center_fraction = (32 // accel_factor) / 100\n",
    "#     num_low_freqs = tf.dtypes.cast(num_cols, 'float32') * center_fraction\n",
    "#     num_low_freqs = tf.dtypes.cast((tf.round(num_low_freqs)), 'int32')\n",
    "#     prob = (num_cols / accel_factor - tf.dtypes.cast(num_low_freqs, 'float64')) / tf.dtypes.cast((num_cols - num_low_freqs), 'float64')\n",
    "#     if fixed_masks:\n",
    "#         tf.random.set_seed(0)\n",
    "#         seed = 0\n",
    "#     else:\n",
    "#         seed = None\n",
    "#     mask = tf.random.uniform(shape=tf.expand_dims(num_cols, axis=0), dtype='float64', seed=seed) < prob\n",
    "#     pad = (num_cols - num_low_freqs + 1) // 2\n",
    "#     final_mask = tf.concat([\n",
    "#         mask[:pad],\n",
    "#         tf.ones([num_low_freqs], dtype=tf.bool),\n",
    "#         mask[pad+num_low_freqs:],\n",
    "#     ], axis=0)\n",
    "\n",
    "#     # # Reshape the mask\n",
    "#     mask_shape = tf.ones_like(shape)\n",
    "#     if multicoil:\n",
    "#         mask_shape = mask_shape[:3]\n",
    "#     else:\n",
    "#         mask_shape = mask_shape[:2]\n",
    "#     final_mask_shape = tf.concat([\n",
    "#         mask_shape,\n",
    "#         tf.expand_dims(num_cols, axis=0),\n",
    "#     ], axis=0)\n",
    "#     final_mask_reshaped = tf.reshape(final_mask, final_mask_shape)\n",
    "#     # we need the batch dimension for cases where we split the batch accross\n",
    "#     # multiple GPUs\n",
    "#     if multicoil:\n",
    "#         final_mask_reshaped = tf.tile(final_mask_reshaped, [shape[0], 1, 1, 1])\n",
    "#     else:\n",
    "#         final_mask_reshaped = tf.tile(final_mask_reshaped, [shape[0], 1, 1])\n",
    "#     fourier_mask = tf.cast(final_mask_reshaped, tf.uint8)\n",
    "#     return fourier_mask\n",
    "#     return final_mask_reshaped\n"
   ]
  },
  {
   "cell_type": "code",
   "execution_count": null,
   "metadata": {},
   "outputs": [],
   "source": [
    "#  Representation binaire qui indique quel point sera conservé. \n",
    "\n",
    "masked_data1 = gen_mask(slice_image_abs)\n",
    "# print(masked_data.shape)\n",
    "\n",
    "# numpy_array = masked_data1.numpy()\n",
    "# import torch\n",
    "\n",
    "# torch_tensor = torch.tensor(numpy_array, dtype=torch.float32)\n",
    "# print(torch_tensor.shape)\n",
    "# print(torch_tensor)\n",
    "\n",
    "#  Relié cette representation binaire avec notre data\n",
    "accelerated_data1 = slice_image_abs * masked_data1\n",
    "# print(accelerated_data)"
   ]
  },
  {
   "cell_type": "code",
   "execution_count": null,
   "metadata": {},
   "outputs": [],
   "source": [
    "#   Transformation multicoil into singlecoil\n",
    "\n",
    "new_image_singlecoil_Masked_Zac = virtual_coil_reconstruction(accelerated_data1) # image avec le subsample mask"
   ]
  },
  {
   "cell_type": "markdown",
   "metadata": {},
   "source": [
    "## Result "
   ]
  },
  {
   "cell_type": "code",
   "execution_count": null,
   "metadata": {},
   "outputs": [
    {
     "data": {
      "image/png": "[encoded data removed]",
      "text/plain": [
       "<Figure size 432x288 with 3 Axes>"
      ]
     },
     "metadata": {
      "needs_background": "light"
     },
     "output_type": "display_data"
    }
   ],
   "source": [
    "\n",
    "plt.subplot(1, 3, 1)\n",
    "plt.imshow(np.abs(new_image_singlecoil.numpy()), cmap='gray')\n",
    "plt.title('Original Image')\n",
    "\n",
    "plt.subplot(1, 3, 2)\n",
    "plt.imshow(np.abs(new_image_singlecoil_Masked.numpy()), cmap='gray')\n",
    "plt.title('Masked Image')\n",
    "\n",
    "plt.subplot(1, 3, 3)\n",
    "plt.imshow(np.abs(new_image_singlecoil_Masked_Zac.numpy()), cmap='gray')\n",
    "plt.title('Masked Image')\n",
    "\n",
    "plt.tight_layout()\n",
    "plt.show()\n"
   ]
  }
 ],
 "metadata": {
  "kernelspec": {
   "display_name": "Python 3",
   "language": "python",
   "name": "python3"
  },
  "language_info": {
   "codemirror_mode": {
    "name": "ipython",
    "version": 3
   },
   "file_extension": ".py",
   "mimetype": "text/x-python",
   "name": "python",
   "nbconvert_exporter": "python",
   "pygments_lexer": "ipython3",
   "version": "3.10.12"
  }
 },
 "nbformat": 4,
 "nbformat_minor": 2
}
